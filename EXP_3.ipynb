{
 "cells": [
  {
   "cell_type": "code",
   "execution_count": 1,
   "metadata": {},
   "outputs": [
    {
     "name": "stdout",
     "output_type": "stream",
     "text": [
      "🚨 Missing Values Before Cleaning:\n",
      "Department /Ministry         1\n",
      "Fund allotted(in ₹crores)    0\n",
      "dtype: int64\n",
      "\n",
      "\n",
      "✅ After Dropping Rows with Missing Values:\n",
      "Department /Ministry         0\n",
      "Fund allotted(in ₹crores)    0\n",
      "dtype: int64\n",
      "\n",
      "✅ After Filling with Constant 0:\n",
      "Department /Ministry         0\n",
      "Fund allotted(in ₹crores)    0\n",
      "dtype: int64\n",
      "\n",
      "✅ After Filling Numeric Columns with Mean:\n",
      "Department /Ministry         1\n",
      "Fund allotted(in ₹crores)    0\n",
      "dtype: int64\n",
      "\n",
      "✅ After Filling Categorical Columns with Mode:\n",
      "Department /Ministry         0\n",
      "Fund allotted(in ₹crores)    0\n",
      "dtype: int64\n",
      "\n",
      "🎯 Final Cleaned Dataset Missing Summary:\n",
      "Department /Ministry         0\n",
      "Fund allotted(in ₹crores)    0\n",
      "dtype: int64\n",
      "\n",
      "📁 Cleaned dataset saved as 'cleaned_dataset.csv'\n"
     ]
    }
   ],
   "source": [
    "import pandas as pd\n",
    "\n",
    "# Step 1: Load your dataset\n",
    "df = pd.read_csv(\"India_budget_2021.csv\")  \n",
    "\n",
    "# Step 2: Show missing data summary\n",
    "print(\"🚨 Missing Values Before Cleaning:\")\n",
    "print(df.isnull().sum())\n",
    "print(\"\\n\")\n",
    "\n",
    "# Step 3: Option 1 – Drop rows with any missing values\n",
    "df_drop_rows = df.dropna()\n",
    "print(\"✅ After Dropping Rows with Missing Values:\")\n",
    "print(df_drop_rows.isnull().sum())\n",
    "\n",
    "# Step 4: Option 2 – Fill missing values with a constant\n",
    "df_fill_constant = df.fillna(0)\n",
    "print(\"\\n✅ After Filling with Constant 0:\")\n",
    "print(df_fill_constant.isnull().sum())\n",
    "\n",
    "# Step 5: Option 3 – Fill numeric columns with mean\n",
    "df_fill_mean = df.copy()\n",
    "for col in df_fill_mean.select_dtypes(include='number').columns:\n",
    "    df_fill_mean[col] = df_fill_mean[col].fillna(df_fill_mean[col].mean())\n",
    "\n",
    "print(\"\\n✅ After Filling Numeric Columns with Mean:\")\n",
    "print(df_fill_mean.isnull().sum())\n",
    "\n",
    "# Step 6: Option 4 – Fill categorical columns with mode\n",
    "df_fill_mode = df.copy()\n",
    "for col in df_fill_mode.select_dtypes(include='object').columns:\n",
    "    df_fill_mode[col] = df_fill_mode[col].fillna(df_fill_mode[col].mode()[0])\n",
    "\n",
    "print(\"\\n✅ After Filling Categorical Columns with Mode:\")\n",
    "print(df_fill_mode.isnull().sum())\n",
    "\n",
    "# Step 7: Combine mean+mode filled data\n",
    "df_cleaned = df_fill_mean.copy()\n",
    "for col in df_fill_mode.columns:\n",
    "    if df_cleaned[col].isnull().sum() > 0:\n",
    "        df_cleaned[col] = df_cleaned[col].fillna(df_fill_mode[col])\n",
    "\n",
    "# Step 8: Final missing check and export\n",
    "print(\"\\n🎯 Final Cleaned Dataset Missing Summary:\")\n",
    "print(df_cleaned.isnull().sum())\n",
    "\n",
    "# Export cleaned data\n",
    "df_cleaned.to_csv(\"cleaned_dataset.csv\", index=False)\n",
    "print(\"\\n📁 Cleaned dataset saved as 'cleaned_dataset.csv'\")\n"
   ]
  },
  {
   "cell_type": "code",
   "execution_count": null,
   "metadata": {},
   "outputs": [],
   "source": []
  }
 ],
 "metadata": {
  "kernelspec": {
   "display_name": "Python 3",
   "language": "python",
   "name": "python3"
  },
  "language_info": {
   "codemirror_mode": {
    "name": "ipython",
    "version": 3
   },
   "file_extension": ".py",
   "mimetype": "text/x-python",
   "name": "python",
   "nbconvert_exporter": "python",
   "pygments_lexer": "ipython3",
   "version": "3.8.5"
  }
 },
 "nbformat": 4,
 "nbformat_minor": 4
}
