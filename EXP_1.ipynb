{
 "cells": [
  {
   "cell_type": "code",
   "execution_count": 1,
   "metadata": {},
   "outputs": [
    {
     "name": "stdout",
     "output_type": "stream",
     "text": [
      "Original Data:\n",
      "                   Department /Ministry Fund allotted(in ₹crores)\n",
      "0               MINISTRY OF AGRICULTURE                 131531.19\n",
      "1           DEPARTMENT OF ATOMIC ENERGY                  18264.89\n",
      "2            MINISTRY OF AYURVEDA, YOGA                    2970.3\n",
      "3  MINISTRY OF CHEMICALS AND FERTILISER                  80714.94\n",
      "4            MINISTRY OF CIVIL AVIATION                   3224.67\n",
      "\n",
      "✅ Cleaned data has been saved to: Cleaned_India_budget_2021.csv\n"
     ]
    }
   ],
   "source": [
    "import pandas as pd\n",
    "\n",
    "# Step 1: Import the data\n",
    "input_file = 'India_budget_2021.csv'  # Replace with your actual file name\n",
    "data = pd.read_csv(input_file)\n",
    "\n",
    "# Step 2: View first few rows\n",
    "print(\"Original Data:\")\n",
    "print(data.head())\n",
    "\n",
    "# Step 3: Drop any completely empty rows\n",
    "data = data.dropna(how='all')\n",
    "\n",
    "# Step 4: Drop rows where either column is missing\n",
    "data = data.dropna(subset=['Department /Ministry', 'Fund allotted(in ₹crores)'])\n",
    "\n",
    "# Step 5: Remove unwanted characters from 'Fund allotted(in ₹crores)' column\n",
    "data['Fund allotted(in ₹crores)'] = (\n",
    "    data['Fund allotted(in ₹crores)']\n",
    "    .astype(str)\n",
    "    .str.replace(',', '', regex=False)       # remove commas\n",
    "    .str.extract(r'([\\d.]+)')[0]              # extract numeric part\n",
    ")\n",
    "\n",
    "# Step 6: Convert the column to numeric type (float)\n",
    "data['Fund allotted(in ₹crores)'] = pd.to_numeric(data['Fund allotted(in ₹crores)'], errors='coerce')\n",
    "\n",
    "# Step 7: Drop rows with invalid or missing numbers\n",
    "data = data.dropna(subset=['Fund allotted(in ₹crores)'])\n",
    "\n",
    "# Step 8: Remove any rows with \"GRAND TOTAL\" or empty Ministry names\n",
    "data = data[~data['Department /Ministry'].str.upper().str.contains(\"GRAND TOTAL|TOTAL|^,$|^ $\", regex=True)]\n",
    "\n",
    "# Step 9: Export the cleaned data to a new CSV file\n",
    "output_file = 'Cleaned_India_budget_2021.csv'\n",
    "data.to_csv(output_file, index=False)\n",
    "\n",
    "print(f\"\\n✅ Cleaned data has been saved to: {output_file}\")\n"
   ]
  },
  {
   "cell_type": "code",
   "execution_count": null,
   "metadata": {},
   "outputs": [],
   "source": []
  }
 ],
 "metadata": {
  "kernelspec": {
   "display_name": "Python 3",
   "language": "python",
   "name": "python3"
  },
  "language_info": {
   "codemirror_mode": {
    "name": "ipython",
    "version": 3
   },
   "file_extension": ".py",
   "mimetype": "text/x-python",
   "name": "python",
   "nbconvert_exporter": "python",
   "pygments_lexer": "ipython3",
   "version": "3.8.5"
  }
 },
 "nbformat": 4,
 "nbformat_minor": 4
}
