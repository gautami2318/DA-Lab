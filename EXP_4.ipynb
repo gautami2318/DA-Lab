{
 "cells": [
  {
   "cell_type": "code",
   "execution_count": 1,
   "metadata": {},
   "outputs": [
    {
     "name": "stdout",
     "output_type": "stream",
     "text": [
      "Missing values before handling:\n",
      " ph                 491\n",
      "Hardness             0\n",
      "Solids               0\n",
      "Chloramines          0\n",
      "Sulfate            781\n",
      "Conductivity         0\n",
      "Organic_carbon       0\n",
      "Trihalomethanes    162\n",
      "Turbidity            0\n",
      "Potability           0\n",
      "dtype: int64\n",
      "\n",
      "📈 Logistic Regression Results:\n",
      "Accuracy: 0.6280487804878049\n",
      "              precision    recall  f1-score   support\n",
      "\n",
      "           0       0.63      1.00      0.77       412\n",
      "           1       0.00      0.00      0.00       244\n",
      "\n",
      "    accuracy                           0.63       656\n",
      "   macro avg       0.31      0.50      0.39       656\n",
      "weighted avg       0.39      0.63      0.48       656\n",
      "\n",
      "\n",
      "🌳 Decision Tree Results:\n",
      "Accuracy: 0.5777439024390244\n",
      "              precision    recall  f1-score   support\n",
      "\n",
      "           0       0.68      0.62      0.65       412\n",
      "           1       0.44      0.51      0.47       244\n",
      "\n",
      "    accuracy                           0.58       656\n",
      "   macro avg       0.56      0.56      0.56       656\n",
      "weighted avg       0.59      0.58      0.58       656\n",
      "\n"
     ]
    },
    {
     "name": "stderr",
     "output_type": "stream",
     "text": [
      "C:\\ProgramData\\Anaconda3\\lib\\site-packages\\sklearn\\metrics\\_classification.py:1221: UndefinedMetricWarning: Precision and F-score are ill-defined and being set to 0.0 in labels with no predicted samples. Use `zero_division` parameter to control this behavior.\n",
      "  _warn_prf(average, modifier, msg_start, len(result))\n"
     ]
    },
    {
     "data": {
      "image/png": "[encoded data removed]",
      "text/plain": [
       "<Figure size 432x288 with 2 Axes>"
      ]
     },
     "metadata": {
      "needs_background": "light"
     },
     "output_type": "display_data"
    }
   ],
   "source": [
    "# Step 1: Import necessary libraries\n",
    "import pandas as pd\n",
    "from sklearn.model_selection import train_test_split\n",
    "from sklearn.preprocessing import StandardScaler\n",
    "from sklearn.linear_model import LogisticRegression\n",
    "from sklearn.tree import DecisionTreeClassifier\n",
    "from sklearn.metrics import classification_report, accuracy_score, confusion_matrix\n",
    "import seaborn as sns\n",
    "import matplotlib.pyplot as plt\n",
    "\n",
    "# Step 2: Load dataset (use your dataset file)\n",
    "df = pd.read_csv('water_potability.csv')  \n",
    "\n",
    "# Step 3: Check for missing values\n",
    "print(\"Missing values before handling:\\n\", df.isnull().sum())\n",
    "\n",
    "# Step 4: Fill missing values (e.g., with mean)\n",
    "df = df.fillna(df.mean(numeric_only=True))\n",
    "\n",
    "# Step 5: Split into features and target\n",
    "X = df.drop('Potability', axis=1)  # Features\n",
    "y = df['Potability']              # Target\n",
    "\n",
    "# Step 6: Split into train and test sets\n",
    "X_train, X_test, y_train, y_test = train_test_split(X, y, test_size=0.2, random_state=42)\n",
    "\n",
    "# Step 7: Standardize the features\n",
    "scaler = StandardScaler()\n",
    "X_train_scaled = scaler.fit_transform(X_train)\n",
    "X_test_scaled = scaler.transform(X_test)\n",
    "\n",
    "# Step 8: Build and train classification models\n",
    "\n",
    "## Logistic Regression\n",
    "log_model = LogisticRegression()\n",
    "log_model.fit(X_train_scaled, y_train)\n",
    "\n",
    "## Decision Tree\n",
    "tree_model = DecisionTreeClassifier(random_state=42)\n",
    "tree_model.fit(X_train, y_train)  # No need to scale for trees\n",
    "\n",
    "# Step 9: Make predictions\n",
    "log_preds = log_model.predict(X_test_scaled)\n",
    "tree_preds = tree_model.predict(X_test)\n",
    "\n",
    "# Step 10: Evaluate models\n",
    "print(\"\\n📈 Logistic Regression Results:\")\n",
    "print(\"Accuracy:\", accuracy_score(y_test, log_preds))\n",
    "print(classification_report(y_test, log_preds))\n",
    "\n",
    "print(\"\\n🌳 Decision Tree Results:\")\n",
    "print(\"Accuracy:\", accuracy_score(y_test, tree_preds))\n",
    "print(classification_report(y_test, tree_preds))\n",
    "\n",
    "# Step 11: Confusion Matrix (visual)\n",
    "conf_matrix = confusion_matrix(y_test, tree_preds)\n",
    "sns.heatmap(conf_matrix, annot=True, fmt=\"d\", cmap=\"Blues\")\n",
    "plt.title(\"Decision Tree Confusion Matrix\")\n",
    "plt.xlabel(\"Predicted\")\n",
    "plt.ylabel(\"Actual\")\n",
    "plt.show()\n"
   ]
  },
  {
   "cell_type": "code",
   "execution_count": null,
   "metadata": {},
   "outputs": [],
   "source": []
  }
 ],
 "metadata": {
  "kernelspec": {
   "display_name": "Python 3",
   "language": "python",
   "name": "python3"
  },
  "language_info": {
   "codemirror_mode": {
    "name": "ipython",
    "version": 3
   },
   "file_extension": ".py",
   "mimetype": "text/x-python",
   "name": "python",
   "nbconvert_exporter": "python",
   "pygments_lexer": "ipython3",
   "version": "3.8.5"
  }
 },
 "nbformat": 4,
 "nbformat_minor": 4
}
