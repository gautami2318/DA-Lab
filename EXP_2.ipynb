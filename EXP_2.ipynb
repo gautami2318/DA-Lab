{
 "cells": [
  {
   "cell_type": "code",
   "execution_count": 1,
   "metadata": {},
   "outputs": [
    {
     "name": "stdout",
     "output_type": "stream",
     "text": [
      "📊 Dataset Summary\n",
      "==================================================\n",
      "✅ Shape of dataset: (55, 2)\n",
      "\n",
      "📌 Columns in dataset:\n",
      "['Department /Ministry', 'Fund allotted(in ₹crores)']\n",
      "\n",
      "🧠 Data Types:\n",
      "Department /Ministry          object\n",
      "Fund allotted(in ₹crores)    float64\n",
      "dtype: object\n",
      "\n",
      "🚨 Missing Values:\n",
      "Department /Ministry         0\n",
      "Fund allotted(in ₹crores)    0\n",
      "dtype: int64\n",
      "\n",
      "🔁 Unique Value Counts:\n",
      "Department /Ministry: 55 unique values\n",
      "Fund allotted(in ₹crores): 55 unique values\n",
      "\n",
      "📈 Statistical Summary:\n",
      "       Fund allotted(in ₹crores)\n",
      "count               5.500000e+01\n",
      "mean                6.333156e+04\n",
      "std                 1.982394e+05\n",
      "min                 3.925000e+01\n",
      "25%                 2.062005e+03\n",
      "50%                 5.753000e+03\n",
      "75%                 3.950800e+04\n",
      "max                 1.386273e+06\n",
      "\n",
      "👀 First 5 rows:\n",
      "                   Department /Ministry  Fund allotted(in ₹crores)\n",
      "0               MINISTRY OF AGRICULTURE                  131531.19\n",
      "1           DEPARTMENT OF ATOMIC ENERGY                   18264.89\n",
      "2            MINISTRY OF AYURVEDA, YOGA                    2970.30\n",
      "3  MINISTRY OF CHEMICALS AND FERTILISER                   80714.94\n",
      "4            MINISTRY OF CIVIL AVIATION                    3224.67\n"
     ]
    }
   ],
   "source": [
    "import pandas as pd\n",
    "\n",
    "# Step 1: Load your dataset (change filename as needed)\n",
    "df = pd.read_csv(\"Cleaned_India_budget_2021.csv\")\n",
    "\n",
    "# Step 2: Print basic info\n",
    "print(\"📊 Dataset Summary\")\n",
    "print(\"=\"*50)\n",
    "print(f\"✅ Shape of dataset: {df.shape}\")\n",
    "print(\"\\n📌 Columns in dataset:\")\n",
    "print(df.columns.tolist())\n",
    "\n",
    "# Step 3: Display data types\n",
    "print(\"\\n🧠 Data Types:\")\n",
    "print(df.dtypes)\n",
    "\n",
    "# Step 4: Show missing values\n",
    "print(\"\\n🚨 Missing Values:\")\n",
    "print(df.isnull().sum())\n",
    "\n",
    "# Step 5: Show unique values per column\n",
    "print(\"\\n🔁 Unique Value Counts:\")\n",
    "for column in df.columns:\n",
    "    print(f\"{column}: {df[column].nunique()} unique values\")\n",
    "\n",
    "# Step 6: Display basic statistics\n",
    "print(\"\\n📈 Statistical Summary:\")\n",
    "print(df.describe())\n",
    "\n",
    "# Step 7: Show first few rows\n",
    "print(\"\\n👀 First 5 rows:\")\n",
    "print(df.head())\n"
   ]
  },
  {
   "cell_type": "code",
   "execution_count": null,
   "metadata": {},
   "outputs": [],
   "source": []
  }
 ],
 "metadata": {
  "kernelspec": {
   "display_name": "Python 3",
   "language": "python",
   "name": "python3"
  },
  "language_info": {
   "codemirror_mode": {
    "name": "ipython",
    "version": 3
   },
   "file_extension": ".py",
   "mimetype": "text/x-python",
   "name": "python",
   "nbconvert_exporter": "python",
   "pygments_lexer": "ipython3",
   "version": "3.8.5"
  }
 },
 "nbformat": 4,
 "nbformat_minor": 4
}
